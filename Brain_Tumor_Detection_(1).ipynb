{
  "cells": [
    {
      "cell_type": "markdown",
      "metadata": {},
      "source": [
        "<div style=\"background-color: #003366; color: #fff; padding: 10px; border-radius: 5px; text-align: center;\">\n",
        "    <h3>Brain Tumor Analysis</h3>\n",
        "</div>\n",
        "<div style=\"background-color: #000; border-radius: 2px; border: 1px solid #000; padding: 15px; font-size: 100%; text-align: center;\">\n",
        "    <img src=\"https://media.giphy.com/media/du3J3cXyzhj75IOgvA/giphy.gif\" alt=\"GitHub GIF\" style=\"max-width: 100%; height: auto;\">\n",
        "</div>\n"
      ]
    },
    {
      "cell_type": "code",
      "execution_count": null,
      "metadata": {
        "colab": {
          "base_uri": "https://localhost:8080/"
        },
        "id": "-qqcESNCkdoX",
        "outputId": "c1ca95f0-9ba5-411b-f751-2776d18c5553"
      },
      "outputs": [],
      "source": [
        "!pip install -q git+https://github.com/THU-MIG/yolov10.git"
      ]
    },
    {
      "cell_type": "code",
      "execution_count": null,
      "metadata": {
        "colab": {
          "base_uri": "https://localhost:8080/"
        },
        "id": "olE9xxYelGjm",
        "outputId": "11a99562-df7f-4b20-b7cf-2f8db6fe36d8"
      },
      "outputs": [],
      "source": [
        "!wget -P -q https://github.com/jameslahm/yolov10/releases/download/v1.0/yolov10n.pt"
      ]
    },
    {
      "cell_type": "code",
      "execution_count": null,
      "metadata": {
        "colab": {
          "base_uri": "https://localhost:8080/"
        },
        "id": "KL4VrIwglfAw",
        "outputId": "923cf406-4c02-4403-8ec0-3832bb29f009"
      },
      "outputs": [],
      "source": [
        "!pip install -q roboflow"
      ]
    },
    {
      "cell_type": "markdown",
      "metadata": {},
      "source": [
        "<div style=\"background-color: #003366; color: #fff; padding: 10px; border-radius: 5px; text-align: center;\">\n",
        "    <h3>DATA SET</h3>\n",
        "</div>"
      ]
    },
    {
      "cell_type": "code",
      "execution_count": null,
      "metadata": {
        "colab": {
          "base_uri": "https://localhost:8080/"
        },
        "id": "RHfM2A5tloc3",
        "outputId": "fcf53088-1eb8-4546-866d-ed385c7f9605"
      },
      "outputs": [],
      "source": [
        "!pip install roboflow\n",
        "\n",
        "from roboflow import Roboflow\n",
        "rf = Roboflow(api_key=\"REPLACE WITH ROBOFLOW API KEY FROM UNIVERSE\")\n",
        "project = rf.workspace(\"brain-mri\").project(\"mri-rskcu\")\n",
        "version = project.version(3)\n",
        "dataset = version.download(\"yolov9\")"
      ]
    },
    {
      "cell_type": "markdown",
      "metadata": {},
      "source": [
        "<div style=\"background-color: #003366; color: #fff; padding: 10px; border-radius: 5px; text-align: center;\">\n",
        "    <h3>TRANING MODEL </h3>\n",
        "</div>"
      ]
    },
    {
      "cell_type": "code",
      "execution_count": null,
      "metadata": {
        "colab": {
          "base_uri": "https://localhost:8080/"
        },
        "id": "BU06k1wfmZ_y",
        "outputId": "7dc7a689-5246-4fc9-82cc-d55097ea1684"
      },
      "outputs": [],
      "source": [
        "!yolo task=detect mode=train epochs = 25, batch=32 plots=True \\\n",
        "model = '/content/-q/yolov10n.pt' \\\n",
        "data = '/content/MRI-3/data.yaml'"
      ]
    },
    {
      "cell_type": "code",
      "execution_count": null,
      "metadata": {
        "colab": {
          "base_uri": "https://localhost:8080/"
        },
        "id": "lF7IwGa3m8Bd",
        "outputId": "0f64f9f8-f322-4533-afc1-d6fcd5e4a8f6"
      },
      "outputs": [],
      "source": [
        "from ultralytics import YOLOv10\n",
        "\n",
        "model_path = \"/content/runs/detect/train9/weights/best.pt\"\n",
        "model = YOLOv10(model_path)\n",
        "\n",
        "result = model(source = \"/content/MRI-3/train/images\", conf = 0.25, save=True)"
      ]
    },
    {
      "cell_type": "markdown",
      "metadata": {},
      "source": [
        "<div style=\"background-color: #003366; color: #fff; padding: 10px; border-radius: 5px; text-align: center;\">\n",
        "    <h3>DISPALYING IMAGES</h3>\n",
        "</div>"
      ]
    },
    {
      "cell_type": "code",
      "execution_count": null,
      "metadata": {
        "colab": {
          "base_uri": "https://localhost:8080/",
          "height": 623
        },
        "id": "JOuvrQa3rEup",
        "outputId": "b3b0061d-fb78-46e9-e946-267e3efc25bf"
      },
      "outputs": [],
      "source": [
        "import glob\n",
        "import matplotlib.pyplot as plt\n",
        "import matplotlib.image as mpimg\n",
        "\n",
        "images = glob.glob(\"/content/runs/detect/predict/*.jpg\")\n",
        "\n",
        "images_to_display = images[:10]\n",
        "\n",
        "fig, axes = plt.subplots(2,5, figsize=(20,10))\n",
        "\n",
        "for i, ax in enumerate(axes.flat):\n",
        "  if i < len(images_to_display):\n",
        "    img = mpimg.imread(images_to_display[i])\n",
        "    ax.imshow(img)\n",
        "    ax.axis('off')\n",
        "  else:\n",
        "    ax.axis('off')\n",
        "plt.tight_layout()\n",
        "plt.show()"
      ]
    },
    {
      "cell_type": "code",
      "execution_count": null,
      "metadata": {
        "colab": {
          "base_uri": "https://localhost:8080/",
          "height": 733
        },
        "id": "t7zltMptsQaj",
        "outputId": "15d4e73d-78cf-4bab-dd10-5b4365babdfd"
      },
      "outputs": [],
      "source": [
        "result = model.predict(source = \"/content/MRI-3/valid/images/Tr-gl_0228_jpg.rf.b9ecef834d39f770e41b0585b63bdc1a.jpg\", imgsz = 640, conf = 0.25)\n",
        "annotated_img = result[0].plot()\n",
        "annotated_img[:, :, ::-1]"
      ]
    },
    {
      "cell_type": "markdown",
      "metadata": {},
      "source": [
        "<div style=\"background-color: #003366; color: #fff; padding: 10px; border-radius: 5px; text-align: center;\">\n",
        "    <h3>MAKING PREDICTIONS</h3>\n",
        "</div>"
      ]
    },
    {
      "cell_type": "code",
      "execution_count": null,
      "metadata": {
        "colab": {
          "base_uri": "https://localhost:8080/"
        },
        "id": "eflTFilHsuLV",
        "outputId": "b9925292-1213-48b7-8773-f6d85183d95f"
      },
      "outputs": [],
      "source": [
        "!pip install gradio"
      ]
    },
    {
      "cell_type": "code",
      "execution_count": null,
      "metadata": {
        "colab": {
          "base_uri": "https://localhost:8080/",
          "height": 626
        },
        "id": "8MjTzJZys6fh",
        "outputId": "9e66ab8f-ef97-4a4f-ba1a-52d38cfabb0d"
      },
      "outputs": [],
      "source": [
        "import gradio as gr\n",
        "import cv2\n",
        "import numpy as np\n",
        "\n",
        "def predict(image):\n",
        "  result = model.predict(source=image, imgsz = 640, conf = 0.25)\n",
        "  annotated_img = result[0].plot()\n",
        "  annotated_img = annotated_img[:, :, ::-1]\n",
        "  return annotated_img\n",
        "\n",
        "app = gr.Interface(\n",
        "    fn =predict,\n",
        "    inputs = gr.Image(type=\"numpy\", label=\"Upload an image\"),\n",
        "    outputs = gr.Image(type=\"numpy\", label=\"Detect Brain Tumor\"),\n",
        "    title = \"Brain Tumor Detection Using Yolov10\",\n",
        "    description=\"Upload an image and the yolov10 model will detect and annotated brain tumor\"\n",
        ")\n",
        "\n",
        "app.launch()"
      ]
    }
  ],
  "metadata": {
    "accelerator": "GPU",
    "colab": {
      "gpuType": "T4",
      "provenance": []
    },
    "kernelspec": {
      "display_name": "Python 3",
      "name": "python3"
    },
    "language_info": {
      "name": "python"
    }
  },
  "nbformat": 4,
  "nbformat_minor": 0
}
